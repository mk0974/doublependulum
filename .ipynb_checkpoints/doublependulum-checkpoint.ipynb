{
 "cells": [
  {
   "cell_type": "code",
   "execution_count": 4,
   "id": "7a14fd0f-0bc4-41e8-b518-8a8c6dbcda4f",
   "metadata": {},
   "outputs": [],
   "source": [
    "import numpy as np\n",
    "import matplotlib.pyplot as plt\n"
   ]
  },
  {
   "cell_type": "markdown",
   "id": "c2728e6a-3ca3-4212-9750-245d70098b5b",
   "metadata": {},
   "source": [
    "Tibia length: $l_t$\n",
    "\n",
    "Femur length: $l_f$"
   ]
  },
  {
   "cell_type": "markdown",
   "id": "6d7c5c82-8df0-4bd8-a6c4-f68ab0036103",
   "metadata": {},
   "source": [
    "Definition of $\\vec{r_1}$ and $\\vec{r_2}$, where $r_1$ is the position vector of the knee joint and $r_2$ is the position vector of the ankle:"
   ]
  },
  {
   "cell_type": "code",
   "execution_count": 1,
   "id": "a8105534-3433-49e5-ad83-320269bb2fb1",
   "metadata": {},
   "outputs": [],
   "source": [
    "def r_1(l_f, theta_h): #calculates the position vector of knee given a theta\n",
    "    x = l_f * np.cos(theta_h)\n",
    "    y = l_f * np.sin(theta_h)\n",
    "    return np.array([x, y])\n",
    "\n",
    "def r_2(r_1, l_t, theta_k, theta_h): #calculates the position vector of ankle given a theta\n",
    "    phi = np.pi - (theta_k - theta_h)\n",
    "    x = r_1[0] + l_t * np.cos(phi)\n",
    "    y = r_1[1] + l_t * np.sin(phi)\n",
    "    return np.array([x, y])"
   ]
  },
  {
   "cell_type": "markdown",
   "id": "50b9017b-5525-49c5-be1e-854fba3536c2",
   "metadata": {},
   "source": [
    "We will look at this model through torques of the individual limbs $l_t$ and $l_f$. In order to do so, we must write down the torque equations:\n",
    "\n",
    "Again, calling $\\phi = \\pi - (\\theta_k - \\theta_h)$:\n",
    "$$\\sum{\\tau_1} = l_f m_f g cos({\\theta}_h) - T_2 cos (\\theta_k - \\pi) = m_f {l_f}^2 \\ddot{\\theta_h}$$\n",
    "$$\\sum{\\tau_2} = l_t m_t gcos(\\phi) = m_t {l_t}^2 \\ddot{\\phi}$$\n",
    "\n",
    "$\\tau_1$ is dependent on the tension exerted on the femur by the tibia, which we called $T_2$. $T_2$ is really just the centripetal force of the tibia:\n",
    "\n",
    "$$T_2 = \\frac{m_t {v_t}^2}{l_t} = \\frac{m_t ({\\dot{r_2}})^2}{l_t}$$"
   ]
  },
  {
   "cell_type": "code",
   "execution_count": 4,
   "id": "33d21d1e-bfc2-4ba3-b791-45774e74aac9",
   "metadata": {},
   "outputs": [
    {
     "ename": "IndentationError",
     "evalue": "expected an indented block after function definition on line 1 (1454499594.py, line 4)",
     "output_type": "error",
     "traceback": [
      "\u001b[1;36m  Cell \u001b[1;32mIn[4], line 4\u001b[1;36m\u001b[0m\n\u001b[1;33m    def torque_femur(tension, l_f, theta_h, theta_k):\u001b[0m\n\u001b[1;37m    ^\u001b[0m\n\u001b[1;31mIndentationError\u001b[0m\u001b[1;31m:\u001b[0m expected an indented block after function definition on line 1\n"
     ]
    }
   ],
   "source": [
    "def v_2(r_2, time_step): #r_2 being an array of position vectors <x,y> derived from csv of angles\n",
    "    return np.diff(r_2, axis = 0) / time_step\n",
    "\n",
    "def torque_femur(tension, l_f, theta_h, theta_k):\n",
    "    "
   ]
  },
  {
   "cell_type": "code",
   "execution_count": null,
   "id": "85750630-0651-4adf-8e37-1bfe83a5f9b9",
   "metadata": {},
   "outputs": [],
   "source": []
  }
 ],
 "metadata": {
  "kernelspec": {
   "display_name": "Python 3 (ipykernel)",
   "language": "python",
   "name": "python3"
  },
  "language_info": {
   "codemirror_mode": {
    "name": "ipython",
    "version": 3
   },
   "file_extension": ".py",
   "mimetype": "text/x-python",
   "name": "python",
   "nbconvert_exporter": "python",
   "pygments_lexer": "ipython3",
   "version": "3.11.7"
  }
 },
 "nbformat": 4,
 "nbformat_minor": 5
}
