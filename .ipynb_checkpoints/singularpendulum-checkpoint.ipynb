{
 "cells": [
  {
   "cell_type": "markdown",
   "id": "bd94ad75-74ab-4e77-9c33-5b975c1df133",
   "metadata": {},
   "source": [
    "This notebook will be used to practice numerical analysis of a simple driven and damped oscillator."
   ]
  },
  {
   "cell_type": "code",
   "execution_count": 1,
   "id": "3587bafc-ef4f-44ed-89b5-761591828043",
   "metadata": {},
   "outputs": [],
   "source": [
    "import numpy as np\n",
    "import matplotlib.pyplot as plt"
   ]
  },
  {
   "cell_type": "markdown",
   "id": "f805d66e-f1fe-4ac3-b5f1-f7b25bbf0c28",
   "metadata": {},
   "source": [
    "Assuming a point mass, a regular pendulum governed by torque is as follows:\n",
    "\n",
    "$$\\sum{\\tau} = -mglsin(\\theta) = I\\alpha$$\n",
    "\n",
    "$\\alpha$ can be written as $\\dot{\\omega}$ as well. As such, we can rewrite our equation:\n",
    "\n",
    "$$I\\alpha = I\\dot{\\omega} = \\sum{\\tau} = -mglsin(\\theta)$$\n",
    "$$\\dot{\\omega} = \\frac{d\\theta}{dt} \\Rightarrow \\Delta \\theta + \\dot{\\omega} \\Delta t$$"
   ]
  },
  {
   "cell_type": "code",
   "execution_count": 4,
   "id": "d398a738-d855-4bd2-865b-be183ebd43f7",
   "metadata": {},
   "outputs": [],
   "source": [
    "def r(theta, length): #given the length of the pendulum and the angle, a position vector can be written\n",
    "    x = l * cos(theta)\n",
    "    y = l * sin(theta)\n",
    "    return np.array([x, y])"
   ]
  },
  {
   "cell_type": "code",
   "execution_count": null,
   "id": "7ccb1ea1-1312-43fd-bb5d-c95905bc2988",
   "metadata": {},
   "outputs": [],
   "source": []
  }
 ],
 "metadata": {
  "kernelspec": {
   "display_name": "Python 3 (ipykernel)",
   "language": "python",
   "name": "python3"
  },
  "language_info": {
   "codemirror_mode": {
    "name": "ipython",
    "version": 3
   },
   "file_extension": ".py",
   "mimetype": "text/x-python",
   "name": "python",
   "nbconvert_exporter": "python",
   "pygments_lexer": "ipython3",
   "version": "3.11.7"
  }
 },
 "nbformat": 4,
 "nbformat_minor": 5
}
