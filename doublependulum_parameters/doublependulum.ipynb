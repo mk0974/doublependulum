{
 "cells": [
  {
   "cell_type": "markdown",
   "id": "2d5f1fcf-c4bd-41e7-9f0c-2eecac93ba45",
   "metadata": {},
   "source": [
    "This double pendular model of sprinting gait uses assumed values for torsional driving and damping constants."
   ]
  },
  {
   "cell_type": "code",
   "execution_count": 74,
   "id": "d217645d-a6a5-4128-a660-d683b335c1b9",
   "metadata": {},
   "outputs": [],
   "source": [
    "%matplotlib inline"
   ]
  },
  {
   "cell_type": "code",
   "execution_count": 75,
   "id": "7a14fd0f-0bc4-41e8-b518-8a8c6dbcda4f",
   "metadata": {},
   "outputs": [],
   "source": [
    "import numpy as np\n",
    "import matplotlib.pyplot as plt\n",
    "import matplotlib.animation as animation\n",
    "\n",
    "from IPython.display import HTML #for visualization using HTML video"
   ]
  },
  {
   "cell_type": "markdown",
   "id": "c2728e6a-3ca3-4212-9750-245d70098b5b",
   "metadata": {},
   "source": [
    "Tibia length: $l_t$\n",
    "\n",
    "Femur length: $l_f$"
   ]
  },
  {
   "cell_type": "markdown",
   "id": "6d7c5c82-8df0-4bd8-a6c4-f68ab0036103",
   "metadata": {},
   "source": [
    "Definition of $\\vec{r_1}$ and $\\vec{r_2}$, where $r_1$ is the position vector of the knee joint and $r_2$ is the position vector of the ankle:"
   ]
  },
  {
   "cell_type": "code",
   "execution_count": 78,
   "id": "d5a552e6-996e-4779-8029-da7e1dd233f7",
   "metadata": {},
   "outputs": [],
   "source": [
    "theta_h = np.pi/2\n",
    "omega_h = 0\n",
    "theta_k = np.pi/2\n",
    "omega_phi = 0\n",
    "m_1 = 2\n",
    "m_2 = 2\n",
    "l_f = 2\n",
    "l_t = 1.5\n",
    "g = 9.8\n",
    "t = 0.02\n",
    "b_1 = 0\n",
    "b_2 = 0\n",
    "\n",
    "phi = np.pi - (theta_k - theta_h)"
   ]
  },
  {
   "cell_type": "code",
   "execution_count": 76,
   "id": "a8105534-3433-49e5-ad83-320269bb2fb1",
   "metadata": {},
   "outputs": [],
   "source": [
    "def r_1(l_f, theta_h): #calculates the position vector of knee given a theta\n",
    "    x = l_f * np.cos(theta_h)\n",
    "    y = -l_f * np.sin(theta_h) # y defined negative in order to hang leg down\n",
    "    return np.array([x, y])\n",
    "\n",
    "\n",
    "def r_2(r_1, l_t, theta_k, phi): #calculates the position vector of ankle given a theta    \n",
    "    x = r_1[0] + l_t * np.cos(phi)\n",
    "    y = r_1[1] - l_t * np.sin(phi) # y defined negative in order to hang leg down\n",
    "    return np.array([x, y])"
   ]
  },
  {
   "cell_type": "markdown",
   "id": "50b9017b-5525-49c5-be1e-854fba3536c2",
   "metadata": {},
   "source": [
    "We will look at this model through torques of the individual limbs $l_t$ and $l_f$. In order to do so, we must write down the torque equations:\n",
    "\n",
    "Again, calling $\\phi = \\pi - (\\theta_k - \\theta_h)$:\n",
    "$$\\sum{\\tau_1} = l_f m_f g cos({\\theta}_h) - T_2 cos (\\theta_k - \\pi) + k_f \\theta_f + b_f \\dot{\\theta_f} = m_f {l_f}^2 \\ddot{\\theta_h}$$\n",
    "$$\\sum{\\tau_2} = l_t m_t gcos(\\phi) + k_t{\\theta_t} + b_t{\\dot{\\theta_t}} = m_t {l_t}^2 \\ddot{\\phi}$$\n",
    "\n",
    "$\\tau_1$ is dependent on the tension exerted on the femur by the tibia, which we called $T_2$. $T_2$ is really just the centripetal force of the tibia:\n",
    "\n",
    "$$T_2 = \\frac{m_t {v_t}^2}{l_t} = \\frac{m_t ({\\dot{r_2}})^2}{l_t}$$\n",
    "\n",
    "$v_2$ is the derivative of $r_2$. Because we are only concerned with the square of velocity:\n",
    "$$|\\dot{r_2}|^2 = l_f^2 \\dot{\\theta_h}^2 - 2 l_f l_t \\dot{\\theta_h} \\dot{\\phi} cos(\\theta_k) + l_t^2 \\dot{\\phi^2}$$"
   ]
  },
  {
   "cell_type": "markdown",
   "id": "7585fb60-e55a-4242-8cc7-e4ffa00645f1",
   "metadata": {},
   "source": [
    "$$l_f m_f g cos({\\theta}_h) - T_2 cos (\\theta_k - \\pi) + k_f \\theta_f + b_f \\dot{\\theta_f} = m_f {l_f}^2 \\ddot{\\theta_h} = m_f {l_f}^2 \\dot{\\omega_h}$$\n",
    "\n",
    "$$l_t m_t gcos(\\phi) + k_t{\\theta_t} + b_t{\\dot{\\theta_t}} = m_t {l_t}^2 \\ddot{\\phi} = m_t {l_t}^2 \\dot{\\omega_{\\phi}}$$"
   ]
  },
  {
   "cell_type": "markdown",
   "id": "ef1c754f-6f5d-4914-9e2b-226e4aceef24",
   "metadata": {},
   "source": [
    "Note that our equations are defined in $\\phi$ and not $\\theta_k$, although our initial condition is still in terms of $\\theta_k$."
   ]
  },
  {
   "cell_type": "code",
   "execution_count": 77,
   "id": "33d21d1e-bfc2-4ba3-b791-45774e74aac9",
   "metadata": {},
   "outputs": [],
   "source": [
    "def degrees_to_radians(degree): #convert degrees to radians\n",
    "    rad = degree * (np.pi / 180)\n",
    "    return rad\n",
    "\n",
    "def radians_to_degrees(radians): #convert radians to degrees\n",
    "    deg = rad (180 * np.pi)\n",
    "    return deg\n",
    "\n",
    "def update_system_undamped(theta_h, phi, omega_h, omega_phi, m_1, m_2, l_f, l_t, g, b_1, b_2, t): #including all relevant parameters in function parameters\n",
    "    I_1 = m_1 * np.square(l_f) # moment of inertia of femur\n",
    "    I_2 = m_2 * np.square(l_t) # moment of inertia of tibia\n",
    "    T = (m_2 / l_t) * (np.square(l_f) * np.square(omega_h) + 2 * l_f * l_t * omega_h * omega_phi + np.square(l_t) * np.square(omega_phi)) # tension of the tibia swinging\n",
    "    \n",
    "    new_omega_phi = omega_phi - (b_2 / I_2 * omega_phi + (l_t * m_2 * g) / I_2 * np.cos(phi)) * t\n",
    "    new_phi = phi + new_omega_phi * t\n",
    "\n",
    "    new_omega_h = omega_h - (b_1 / I_1 * omega_h + (l_f * m_1 * g) / I_1 * np.cos(theta_h) - (l_f / I_1) * T) * t\n",
    "    new_theta_h = theta_h + new_omega_h * t\n",
    "\n",
    "    return new_omega_phi, new_phi, new_omega_h, new_theta_h\n"
   ]
  },
  {
   "cell_type": "code",
   "execution_count": 79,
   "id": "f135587d-b88a-4e00-b944-395730c543d2",
   "metadata": {},
   "outputs": [
    {
     "ename": "TypeError",
     "evalue": "'function' object is not subscriptable",
     "output_type": "error",
     "traceback": [
      "\u001b[1;31m---------------------------------------------------------------------------\u001b[0m",
      "\u001b[1;31mTypeError\u001b[0m                                 Traceback (most recent call last)",
      "Cell \u001b[1;32mIn[79], line 40\u001b[0m\n\u001b[0;32m     37\u001b[0m     \u001b[38;5;28;01mreturn\u001b[39;00m (femur, tibia)\n\u001b[0;32m     39\u001b[0m plt\u001b[38;5;241m.\u001b[39mclose()\n\u001b[1;32m---> 40\u001b[0m anim \u001b[38;5;241m=\u001b[39m animation\u001b[38;5;241m.\u001b[39mFuncAnimation(fig, animate_undamped, frames\u001b[38;5;241m=\u001b[39m\u001b[38;5;241m600\u001b[39m, interval\u001b[38;5;241m=\u001b[39m\u001b[38;5;241m20\u001b[39m, blit\u001b[38;5;241m=\u001b[39m\u001b[38;5;28;01mTrue\u001b[39;00m)\n\u001b[0;32m     41\u001b[0m HTML(anim\u001b[38;5;241m.\u001b[39mto_html5_video())\n",
      "File \u001b[1;32m~\\anaconda3\\Lib\\site-packages\\matplotlib\\animation.py:1695\u001b[0m, in \u001b[0;36mFuncAnimation.__init__\u001b[1;34m(self, fig, func, frames, init_func, fargs, save_count, cache_frame_data, **kwargs)\u001b[0m\n\u001b[0;32m   1692\u001b[0m \u001b[38;5;66;03m# Needs to be initialized so the draw functions work without checking\u001b[39;00m\n\u001b[0;32m   1693\u001b[0m \u001b[38;5;28mself\u001b[39m\u001b[38;5;241m.\u001b[39m_save_seq \u001b[38;5;241m=\u001b[39m []\n\u001b[1;32m-> 1695\u001b[0m \u001b[38;5;28msuper\u001b[39m()\u001b[38;5;241m.\u001b[39m\u001b[38;5;21m__init__\u001b[39m(fig, \u001b[38;5;241m*\u001b[39m\u001b[38;5;241m*\u001b[39mkwargs)\n\u001b[0;32m   1697\u001b[0m \u001b[38;5;66;03m# Need to reset the saved seq, since right now it will contain data\u001b[39;00m\n\u001b[0;32m   1698\u001b[0m \u001b[38;5;66;03m# for a single frame from init, which is not what we want.\u001b[39;00m\n\u001b[0;32m   1699\u001b[0m \u001b[38;5;28mself\u001b[39m\u001b[38;5;241m.\u001b[39m_save_seq \u001b[38;5;241m=\u001b[39m []\n",
      "File \u001b[1;32m~\\anaconda3\\Lib\\site-packages\\matplotlib\\animation.py:1417\u001b[0m, in \u001b[0;36mTimedAnimation.__init__\u001b[1;34m(self, fig, interval, repeat_delay, repeat, event_source, *args, **kwargs)\u001b[0m\n\u001b[0;32m   1415\u001b[0m \u001b[38;5;28;01mif\u001b[39;00m event_source \u001b[38;5;129;01mis\u001b[39;00m \u001b[38;5;28;01mNone\u001b[39;00m:\n\u001b[0;32m   1416\u001b[0m     event_source \u001b[38;5;241m=\u001b[39m fig\u001b[38;5;241m.\u001b[39mcanvas\u001b[38;5;241m.\u001b[39mnew_timer(interval\u001b[38;5;241m=\u001b[39m\u001b[38;5;28mself\u001b[39m\u001b[38;5;241m.\u001b[39m_interval)\n\u001b[1;32m-> 1417\u001b[0m \u001b[38;5;28msuper\u001b[39m()\u001b[38;5;241m.\u001b[39m\u001b[38;5;21m__init__\u001b[39m(fig, event_source\u001b[38;5;241m=\u001b[39mevent_source, \u001b[38;5;241m*\u001b[39margs, \u001b[38;5;241m*\u001b[39m\u001b[38;5;241m*\u001b[39mkwargs)\n",
      "File \u001b[1;32m~\\anaconda3\\Lib\\site-packages\\matplotlib\\animation.py:888\u001b[0m, in \u001b[0;36mAnimation.__init__\u001b[1;34m(self, fig, event_source, blit)\u001b[0m\n\u001b[0;32m    885\u001b[0m \u001b[38;5;28mself\u001b[39m\u001b[38;5;241m.\u001b[39m_close_id \u001b[38;5;241m=\u001b[39m \u001b[38;5;28mself\u001b[39m\u001b[38;5;241m.\u001b[39m_fig\u001b[38;5;241m.\u001b[39mcanvas\u001b[38;5;241m.\u001b[39mmpl_connect(\u001b[38;5;124m'\u001b[39m\u001b[38;5;124mclose_event\u001b[39m\u001b[38;5;124m'\u001b[39m,\n\u001b[0;32m    886\u001b[0m                                               \u001b[38;5;28mself\u001b[39m\u001b[38;5;241m.\u001b[39m_stop)\n\u001b[0;32m    887\u001b[0m \u001b[38;5;28;01mif\u001b[39;00m \u001b[38;5;28mself\u001b[39m\u001b[38;5;241m.\u001b[39m_blit:\n\u001b[1;32m--> 888\u001b[0m     \u001b[38;5;28mself\u001b[39m\u001b[38;5;241m.\u001b[39m_setup_blit()\n",
      "File \u001b[1;32m~\\anaconda3\\Lib\\site-packages\\matplotlib\\animation.py:1211\u001b[0m, in \u001b[0;36mAnimation._setup_blit\u001b[1;34m(self)\u001b[0m\n\u001b[0;32m   1209\u001b[0m \u001b[38;5;28mself\u001b[39m\u001b[38;5;241m.\u001b[39m_drawn_artists \u001b[38;5;241m=\u001b[39m []\n\u001b[0;32m   1210\u001b[0m \u001b[38;5;66;03m# _post_draw needs to be called first to initialize the renderer\u001b[39;00m\n\u001b[1;32m-> 1211\u001b[0m \u001b[38;5;28mself\u001b[39m\u001b[38;5;241m.\u001b[39m_post_draw(\u001b[38;5;28;01mNone\u001b[39;00m, \u001b[38;5;28mself\u001b[39m\u001b[38;5;241m.\u001b[39m_blit)\n\u001b[0;32m   1212\u001b[0m \u001b[38;5;66;03m# Then we need to clear the Frame for the initial draw\u001b[39;00m\n\u001b[0;32m   1213\u001b[0m \u001b[38;5;66;03m# This is typically handled in _on_resize because QT and Tk\u001b[39;00m\n\u001b[0;32m   1214\u001b[0m \u001b[38;5;66;03m# emit a resize event on launch, but the macosx backend does not,\u001b[39;00m\n\u001b[0;32m   1215\u001b[0m \u001b[38;5;66;03m# thus we force it here for everyone for consistency\u001b[39;00m\n\u001b[0;32m   1216\u001b[0m \u001b[38;5;28mself\u001b[39m\u001b[38;5;241m.\u001b[39m_init_draw()\n",
      "File \u001b[1;32m~\\anaconda3\\Lib\\site-packages\\matplotlib\\animation.py:1166\u001b[0m, in \u001b[0;36mAnimation._post_draw\u001b[1;34m(self, framedata, blit)\u001b[0m\n\u001b[0;32m   1164\u001b[0m     \u001b[38;5;28mself\u001b[39m\u001b[38;5;241m.\u001b[39m_blit_draw(\u001b[38;5;28mself\u001b[39m\u001b[38;5;241m.\u001b[39m_drawn_artists)\n\u001b[0;32m   1165\u001b[0m \u001b[38;5;28;01melse\u001b[39;00m:\n\u001b[1;32m-> 1166\u001b[0m     \u001b[38;5;28mself\u001b[39m\u001b[38;5;241m.\u001b[39m_fig\u001b[38;5;241m.\u001b[39mcanvas\u001b[38;5;241m.\u001b[39mdraw_idle()\n",
      "File \u001b[1;32m~\\anaconda3\\Lib\\site-packages\\matplotlib\\backend_bases.py:1893\u001b[0m, in \u001b[0;36mFigureCanvasBase.draw_idle\u001b[1;34m(self, *args, **kwargs)\u001b[0m\n\u001b[0;32m   1891\u001b[0m \u001b[38;5;28;01mif\u001b[39;00m \u001b[38;5;129;01mnot\u001b[39;00m \u001b[38;5;28mself\u001b[39m\u001b[38;5;241m.\u001b[39m_is_idle_drawing:\n\u001b[0;32m   1892\u001b[0m     \u001b[38;5;28;01mwith\u001b[39;00m \u001b[38;5;28mself\u001b[39m\u001b[38;5;241m.\u001b[39m_idle_draw_cntx():\n\u001b[1;32m-> 1893\u001b[0m         \u001b[38;5;28mself\u001b[39m\u001b[38;5;241m.\u001b[39mdraw(\u001b[38;5;241m*\u001b[39margs, \u001b[38;5;241m*\u001b[39m\u001b[38;5;241m*\u001b[39mkwargs)\n",
      "File \u001b[1;32m~\\anaconda3\\Lib\\site-packages\\matplotlib\\backends\\backend_agg.py:388\u001b[0m, in \u001b[0;36mFigureCanvasAgg.draw\u001b[1;34m(self)\u001b[0m\n\u001b[0;32m    385\u001b[0m \u001b[38;5;66;03m# Acquire a lock on the shared font cache.\u001b[39;00m\n\u001b[0;32m    386\u001b[0m \u001b[38;5;28;01mwith\u001b[39;00m (\u001b[38;5;28mself\u001b[39m\u001b[38;5;241m.\u001b[39mtoolbar\u001b[38;5;241m.\u001b[39m_wait_cursor_for_draw_cm() \u001b[38;5;28;01mif\u001b[39;00m \u001b[38;5;28mself\u001b[39m\u001b[38;5;241m.\u001b[39mtoolbar\n\u001b[0;32m    387\u001b[0m       \u001b[38;5;28;01melse\u001b[39;00m nullcontext()):\n\u001b[1;32m--> 388\u001b[0m     \u001b[38;5;28mself\u001b[39m\u001b[38;5;241m.\u001b[39mfigure\u001b[38;5;241m.\u001b[39mdraw(\u001b[38;5;28mself\u001b[39m\u001b[38;5;241m.\u001b[39mrenderer)\n\u001b[0;32m    389\u001b[0m     \u001b[38;5;66;03m# A GUI class may be need to update a window using this draw, so\u001b[39;00m\n\u001b[0;32m    390\u001b[0m     \u001b[38;5;66;03m# don't forget to call the superclass.\u001b[39;00m\n\u001b[0;32m    391\u001b[0m     \u001b[38;5;28msuper\u001b[39m()\u001b[38;5;241m.\u001b[39mdraw()\n",
      "File \u001b[1;32m~\\anaconda3\\Lib\\site-packages\\matplotlib\\artist.py:95\u001b[0m, in \u001b[0;36m_finalize_rasterization.<locals>.draw_wrapper\u001b[1;34m(artist, renderer, *args, **kwargs)\u001b[0m\n\u001b[0;32m     93\u001b[0m \u001b[38;5;129m@wraps\u001b[39m(draw)\n\u001b[0;32m     94\u001b[0m \u001b[38;5;28;01mdef\u001b[39;00m \u001b[38;5;21mdraw_wrapper\u001b[39m(artist, renderer, \u001b[38;5;241m*\u001b[39margs, \u001b[38;5;241m*\u001b[39m\u001b[38;5;241m*\u001b[39mkwargs):\n\u001b[1;32m---> 95\u001b[0m     result \u001b[38;5;241m=\u001b[39m draw(artist, renderer, \u001b[38;5;241m*\u001b[39margs, \u001b[38;5;241m*\u001b[39m\u001b[38;5;241m*\u001b[39mkwargs)\n\u001b[0;32m     96\u001b[0m     \u001b[38;5;28;01mif\u001b[39;00m renderer\u001b[38;5;241m.\u001b[39m_rasterizing:\n\u001b[0;32m     97\u001b[0m         renderer\u001b[38;5;241m.\u001b[39mstop_rasterizing()\n",
      "File \u001b[1;32m~\\anaconda3\\Lib\\site-packages\\matplotlib\\artist.py:72\u001b[0m, in \u001b[0;36mallow_rasterization.<locals>.draw_wrapper\u001b[1;34m(artist, renderer)\u001b[0m\n\u001b[0;32m     69\u001b[0m     \u001b[38;5;28;01mif\u001b[39;00m artist\u001b[38;5;241m.\u001b[39mget_agg_filter() \u001b[38;5;129;01mis\u001b[39;00m \u001b[38;5;129;01mnot\u001b[39;00m \u001b[38;5;28;01mNone\u001b[39;00m:\n\u001b[0;32m     70\u001b[0m         renderer\u001b[38;5;241m.\u001b[39mstart_filter()\n\u001b[1;32m---> 72\u001b[0m     \u001b[38;5;28;01mreturn\u001b[39;00m draw(artist, renderer)\n\u001b[0;32m     73\u001b[0m \u001b[38;5;28;01mfinally\u001b[39;00m:\n\u001b[0;32m     74\u001b[0m     \u001b[38;5;28;01mif\u001b[39;00m artist\u001b[38;5;241m.\u001b[39mget_agg_filter() \u001b[38;5;129;01mis\u001b[39;00m \u001b[38;5;129;01mnot\u001b[39;00m \u001b[38;5;28;01mNone\u001b[39;00m:\n",
      "File \u001b[1;32m~\\anaconda3\\Lib\\site-packages\\matplotlib\\figure.py:3164\u001b[0m, in \u001b[0;36mFigure.draw\u001b[1;34m(self, renderer)\u001b[0m\n\u001b[0;32m   3161\u001b[0m \u001b[38;5;28;01mfinally\u001b[39;00m:\n\u001b[0;32m   3162\u001b[0m     \u001b[38;5;28mself\u001b[39m\u001b[38;5;241m.\u001b[39mstale \u001b[38;5;241m=\u001b[39m \u001b[38;5;28;01mFalse\u001b[39;00m\n\u001b[1;32m-> 3164\u001b[0m DrawEvent(\u001b[38;5;124m\"\u001b[39m\u001b[38;5;124mdraw_event\u001b[39m\u001b[38;5;124m\"\u001b[39m, \u001b[38;5;28mself\u001b[39m\u001b[38;5;241m.\u001b[39mcanvas, renderer)\u001b[38;5;241m.\u001b[39m_process()\n",
      "File \u001b[1;32m~\\anaconda3\\Lib\\site-packages\\matplotlib\\backend_bases.py:1271\u001b[0m, in \u001b[0;36mEvent._process\u001b[1;34m(self)\u001b[0m\n\u001b[0;32m   1269\u001b[0m \u001b[38;5;28;01mdef\u001b[39;00m \u001b[38;5;21m_process\u001b[39m(\u001b[38;5;28mself\u001b[39m):\n\u001b[0;32m   1270\u001b[0m \u001b[38;5;250m    \u001b[39m\u001b[38;5;124;03m\"\"\"Process this event on ``self.canvas``, then unset ``guiEvent``.\"\"\"\u001b[39;00m\n\u001b[1;32m-> 1271\u001b[0m     \u001b[38;5;28mself\u001b[39m\u001b[38;5;241m.\u001b[39mcanvas\u001b[38;5;241m.\u001b[39mcallbacks\u001b[38;5;241m.\u001b[39mprocess(\u001b[38;5;28mself\u001b[39m\u001b[38;5;241m.\u001b[39mname, \u001b[38;5;28mself\u001b[39m)\n\u001b[0;32m   1272\u001b[0m     \u001b[38;5;28mself\u001b[39m\u001b[38;5;241m.\u001b[39m_guiEvent_deleted \u001b[38;5;241m=\u001b[39m \u001b[38;5;28;01mTrue\u001b[39;00m\n",
      "File \u001b[1;32m~\\anaconda3\\Lib\\site-packages\\matplotlib\\cbook.py:303\u001b[0m, in \u001b[0;36mCallbackRegistry.process\u001b[1;34m(self, s, *args, **kwargs)\u001b[0m\n\u001b[0;32m    301\u001b[0m \u001b[38;5;28;01mexcept\u001b[39;00m \u001b[38;5;167;01mException\u001b[39;00m \u001b[38;5;28;01mas\u001b[39;00m exc:\n\u001b[0;32m    302\u001b[0m     \u001b[38;5;28;01mif\u001b[39;00m \u001b[38;5;28mself\u001b[39m\u001b[38;5;241m.\u001b[39mexception_handler \u001b[38;5;129;01mis\u001b[39;00m \u001b[38;5;129;01mnot\u001b[39;00m \u001b[38;5;28;01mNone\u001b[39;00m:\n\u001b[1;32m--> 303\u001b[0m         \u001b[38;5;28mself\u001b[39m\u001b[38;5;241m.\u001b[39mexception_handler(exc)\n\u001b[0;32m    304\u001b[0m     \u001b[38;5;28;01melse\u001b[39;00m:\n\u001b[0;32m    305\u001b[0m         \u001b[38;5;28;01mraise\u001b[39;00m\n",
      "File \u001b[1;32m~\\anaconda3\\Lib\\site-packages\\matplotlib\\cbook.py:87\u001b[0m, in \u001b[0;36m_exception_printer\u001b[1;34m(exc)\u001b[0m\n\u001b[0;32m     85\u001b[0m \u001b[38;5;28;01mdef\u001b[39;00m \u001b[38;5;21m_exception_printer\u001b[39m(exc):\n\u001b[0;32m     86\u001b[0m     \u001b[38;5;28;01mif\u001b[39;00m _get_running_interactive_framework() \u001b[38;5;129;01min\u001b[39;00m [\u001b[38;5;124m\"\u001b[39m\u001b[38;5;124mheadless\u001b[39m\u001b[38;5;124m\"\u001b[39m, \u001b[38;5;28;01mNone\u001b[39;00m]:\n\u001b[1;32m---> 87\u001b[0m         \u001b[38;5;28;01mraise\u001b[39;00m exc\n\u001b[0;32m     88\u001b[0m     \u001b[38;5;28;01melse\u001b[39;00m:\n\u001b[0;32m     89\u001b[0m         traceback\u001b[38;5;241m.\u001b[39mprint_exc()\n",
      "File \u001b[1;32m~\\anaconda3\\Lib\\site-packages\\matplotlib\\cbook.py:298\u001b[0m, in \u001b[0;36mCallbackRegistry.process\u001b[1;34m(self, s, *args, **kwargs)\u001b[0m\n\u001b[0;32m    296\u001b[0m \u001b[38;5;28;01mif\u001b[39;00m func \u001b[38;5;129;01mis\u001b[39;00m \u001b[38;5;129;01mnot\u001b[39;00m \u001b[38;5;28;01mNone\u001b[39;00m:\n\u001b[0;32m    297\u001b[0m     \u001b[38;5;28;01mtry\u001b[39;00m:\n\u001b[1;32m--> 298\u001b[0m         func(\u001b[38;5;241m*\u001b[39margs, \u001b[38;5;241m*\u001b[39m\u001b[38;5;241m*\u001b[39mkwargs)\n\u001b[0;32m    299\u001b[0m     \u001b[38;5;66;03m# this does not capture KeyboardInterrupt, SystemExit,\u001b[39;00m\n\u001b[0;32m    300\u001b[0m     \u001b[38;5;66;03m# and GeneratorExit\u001b[39;00m\n\u001b[0;32m    301\u001b[0m     \u001b[38;5;28;01mexcept\u001b[39;00m \u001b[38;5;167;01mException\u001b[39;00m \u001b[38;5;28;01mas\u001b[39;00m exc:\n",
      "File \u001b[1;32m~\\anaconda3\\Lib\\site-packages\\matplotlib\\animation.py:912\u001b[0m, in \u001b[0;36mAnimation._start\u001b[1;34m(self, *args)\u001b[0m\n\u001b[0;32m    909\u001b[0m \u001b[38;5;28mself\u001b[39m\u001b[38;5;241m.\u001b[39m_fig\u001b[38;5;241m.\u001b[39mcanvas\u001b[38;5;241m.\u001b[39mmpl_disconnect(\u001b[38;5;28mself\u001b[39m\u001b[38;5;241m.\u001b[39m_first_draw_id)\n\u001b[0;32m    911\u001b[0m \u001b[38;5;66;03m# Now do any initial draw\u001b[39;00m\n\u001b[1;32m--> 912\u001b[0m \u001b[38;5;28mself\u001b[39m\u001b[38;5;241m.\u001b[39m_init_draw()\n\u001b[0;32m    914\u001b[0m \u001b[38;5;66;03m# Add our callback for stepping the animation and\u001b[39;00m\n\u001b[0;32m    915\u001b[0m \u001b[38;5;66;03m# actually start the event_source.\u001b[39;00m\n\u001b[0;32m    916\u001b[0m \u001b[38;5;28mself\u001b[39m\u001b[38;5;241m.\u001b[39mevent_source\u001b[38;5;241m.\u001b[39madd_callback(\u001b[38;5;28mself\u001b[39m\u001b[38;5;241m.\u001b[39m_step)\n",
      "File \u001b[1;32m~\\anaconda3\\Lib\\site-packages\\matplotlib\\animation.py:1749\u001b[0m, in \u001b[0;36mFuncAnimation._init_draw\u001b[1;34m(self)\u001b[0m\n\u001b[0;32m   1741\u001b[0m         warnings\u001b[38;5;241m.\u001b[39mwarn(\n\u001b[0;32m   1742\u001b[0m             \u001b[38;5;124m\"\u001b[39m\u001b[38;5;124mCan not start iterating the frames for the initial draw. \u001b[39m\u001b[38;5;124m\"\u001b[39m\n\u001b[0;32m   1743\u001b[0m             \u001b[38;5;124m\"\u001b[39m\u001b[38;5;124mThis can be caused by passing in a 0 length sequence \u001b[39m\u001b[38;5;124m\"\u001b[39m\n\u001b[1;32m   (...)\u001b[0m\n\u001b[0;32m   1746\u001b[0m             \u001b[38;5;124m\"\u001b[39m\u001b[38;5;124mit may be exhausted due to a previous display or save.\u001b[39m\u001b[38;5;124m\"\u001b[39m\n\u001b[0;32m   1747\u001b[0m         )\n\u001b[0;32m   1748\u001b[0m         \u001b[38;5;28;01mreturn\u001b[39;00m\n\u001b[1;32m-> 1749\u001b[0m     \u001b[38;5;28mself\u001b[39m\u001b[38;5;241m.\u001b[39m_draw_frame(frame_data)\n\u001b[0;32m   1750\u001b[0m \u001b[38;5;28;01melse\u001b[39;00m:\n\u001b[0;32m   1751\u001b[0m     \u001b[38;5;28mself\u001b[39m\u001b[38;5;241m.\u001b[39m_drawn_artists \u001b[38;5;241m=\u001b[39m \u001b[38;5;28mself\u001b[39m\u001b[38;5;241m.\u001b[39m_init_func()\n",
      "File \u001b[1;32m~\\anaconda3\\Lib\\site-packages\\matplotlib\\animation.py:1768\u001b[0m, in \u001b[0;36mFuncAnimation._draw_frame\u001b[1;34m(self, framedata)\u001b[0m\n\u001b[0;32m   1764\u001b[0m     \u001b[38;5;28mself\u001b[39m\u001b[38;5;241m.\u001b[39m_save_seq \u001b[38;5;241m=\u001b[39m \u001b[38;5;28mself\u001b[39m\u001b[38;5;241m.\u001b[39m_save_seq[\u001b[38;5;241m-\u001b[39m\u001b[38;5;28mself\u001b[39m\u001b[38;5;241m.\u001b[39m_save_count:]\n\u001b[0;32m   1766\u001b[0m \u001b[38;5;66;03m# Call the func with framedata and args. If blitting is desired,\u001b[39;00m\n\u001b[0;32m   1767\u001b[0m \u001b[38;5;66;03m# func needs to return a sequence of any artists that were modified.\u001b[39;00m\n\u001b[1;32m-> 1768\u001b[0m \u001b[38;5;28mself\u001b[39m\u001b[38;5;241m.\u001b[39m_drawn_artists \u001b[38;5;241m=\u001b[39m \u001b[38;5;28mself\u001b[39m\u001b[38;5;241m.\u001b[39m_func(framedata, \u001b[38;5;241m*\u001b[39m\u001b[38;5;28mself\u001b[39m\u001b[38;5;241m.\u001b[39m_args)\n\u001b[0;32m   1770\u001b[0m \u001b[38;5;28;01mif\u001b[39;00m \u001b[38;5;28mself\u001b[39m\u001b[38;5;241m.\u001b[39m_blit:\n\u001b[0;32m   1772\u001b[0m     err \u001b[38;5;241m=\u001b[39m \u001b[38;5;167;01mRuntimeError\u001b[39;00m(\u001b[38;5;124m'\u001b[39m\u001b[38;5;124mThe animation function must return a sequence \u001b[39m\u001b[38;5;124m'\u001b[39m\n\u001b[0;32m   1773\u001b[0m                        \u001b[38;5;124m'\u001b[39m\u001b[38;5;124mof Artist objects.\u001b[39m\u001b[38;5;124m'\u001b[39m)\n",
      "Cell \u001b[1;32mIn[79], line 19\u001b[0m, in \u001b[0;36manimate_undamped\u001b[1;34m(i)\u001b[0m\n\u001b[0;32m     16\u001b[0m \u001b[38;5;28;01mglobal\u001b[39;00m theta_h, phi, phi, omega_phi, m_1, m_2, l_f, l_t, g, b_1, b_2, t, x_ankle, y_ankle, x_knee, y_knee\n\u001b[0;32m     18\u001b[0m r_k \u001b[38;5;241m=\u001b[39m  r_1(l_f, theta_h) \u001b[38;5;66;03m#update coordinates of knee\u001b[39;00m\n\u001b[1;32m---> 19\u001b[0m r_a \u001b[38;5;241m=\u001b[39m r_2(r_1, l_t, theta_k, phi) \u001b[38;5;66;03m#update coordinates of ankle\u001b[39;00m\n\u001b[0;32m     21\u001b[0m \u001b[38;5;66;03m#update x and y coordinates of knee and ankle\u001b[39;00m\n\u001b[0;32m     22\u001b[0m x_knee[\u001b[38;5;241m1\u001b[39m] \u001b[38;5;241m=\u001b[39m r_k[\u001b[38;5;241m0\u001b[39m]\n",
      "Cell \u001b[1;32mIn[76], line 7\u001b[0m, in \u001b[0;36mr_2\u001b[1;34m(r_1, l_t, theta_k, phi)\u001b[0m\n\u001b[0;32m      6\u001b[0m \u001b[38;5;28;01mdef\u001b[39;00m \u001b[38;5;21mr_2\u001b[39m(r_1, l_t, theta_k, phi): \u001b[38;5;66;03m#calculates the position vector of ankle given a theta    \u001b[39;00m\n\u001b[1;32m----> 7\u001b[0m     x \u001b[38;5;241m=\u001b[39m r_1[\u001b[38;5;241m0\u001b[39m] \u001b[38;5;241m+\u001b[39m l_t \u001b[38;5;241m*\u001b[39m np\u001b[38;5;241m.\u001b[39mcos(phi)\n\u001b[0;32m      8\u001b[0m     y \u001b[38;5;241m=\u001b[39m r_1[\u001b[38;5;241m1\u001b[39m] \u001b[38;5;241m-\u001b[39m l_t \u001b[38;5;241m*\u001b[39m np\u001b[38;5;241m.\u001b[39msin(phi) \u001b[38;5;66;03m# y defined negative in order to hang leg down\u001b[39;00m\n\u001b[0;32m      9\u001b[0m     \u001b[38;5;28;01mreturn\u001b[39;00m np\u001b[38;5;241m.\u001b[39marray([x, y])\n",
      "\u001b[1;31mTypeError\u001b[0m: 'function' object is not subscriptable"
     ]
    }
   ],
   "source": [
    "r_k0 =  r_1(l_f, theta_h) #intial coordinates of knee\n",
    "r_a0 = r_2(r_k0, l_t, theta_k, phi) #initial coordinates of ankle\n",
    "\n",
    "#drawing initial limb positions of femur and tibia\n",
    "x_knee = [0, r_k0[0]]\n",
    "y_knee = [0, r_k0[1]]\n",
    "\n",
    "x_ankle = [r_k0[0], r_a0[0]]\n",
    "y_ankle = [r_k0[1], r_a0[1]]\n",
    "\n",
    "fig, ax = plt.subplots()\n",
    "femur, = ax.plot([], [], 'o-', lw=2)\n",
    "tibia, = ax.plot([], [], 'o-', lw=2)\n",
    "\n",
    "def animate_undamped(i):\n",
    "    global theta_h, phi, phi, omega_phi, m_1, m_2, l_f, l_t, g, b_1, b_2, t, x_ankle, y_ankle, x_knee, y_knee\n",
    "\n",
    "    r_k =  r_1(l_f, theta_h) #update coordinates of knee\n",
    "    r_a = r_2(r_1, l_t, theta_k, phi) #update coordinates of ankle\n",
    "\n",
    "    #update x and y coordinates of knee and ankle\n",
    "    x_knee[1] = r_k[0]\n",
    "    y_knee[1] = r_k[1]\n",
    "\n",
    "    x_ankle = [r_k[0], r_a[0]]\n",
    "    y_ankle = [r_k[1], r_1[1]]\n",
    "\n",
    "    omega_phi, phi, omega_h, theta_h = update_system_undamped(theta_h, phi, omega_h, omega_phi, m_1, m_2, l_f, l_t, g, b_1, b_2, t)\n",
    "\n",
    "    femur.set_data(x_knee, y_knee)\n",
    "    tibia.set_data(x_ankle, y_ankle)\n",
    "    ax.set_xlim(-3*l, 3*l)\n",
    "    ax.set_ylim(-3*1, 3*l)\n",
    "    ax.set_xlabel('X')\n",
    "    ax.set_ylabel('Y')\n",
    "    ax.set_title('Undamped Double Pendulum')\n",
    "    return (femur, tibia)\n",
    "\n",
    "plt.close()\n",
    "anim = animation.FuncAnimation(fig, animate_undamped, frames=600, interval=20, blit=True)\n",
    "HTML(anim.to_html5_video())"
   ]
  },
  {
   "cell_type": "code",
   "execution_count": null,
   "id": "30875054-0704-44e4-ba5b-60863085d223",
   "metadata": {},
   "outputs": [],
   "source": []
  },
  {
   "cell_type": "code",
   "execution_count": null,
   "id": "47737bed-738f-47d0-827b-754be787a9fe",
   "metadata": {},
   "outputs": [],
   "source": []
  }
 ],
 "metadata": {
  "kernelspec": {
   "display_name": "Python 3 (ipykernel)",
   "language": "python",
   "name": "python3"
  },
  "language_info": {
   "codemirror_mode": {
    "name": "ipython",
    "version": 3
   },
   "file_extension": ".py",
   "mimetype": "text/x-python",
   "name": "python",
   "nbconvert_exporter": "python",
   "pygments_lexer": "ipython3",
   "version": "3.11.7"
  }
 },
 "nbformat": 4,
 "nbformat_minor": 5
}
