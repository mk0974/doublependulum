{
 "cells": [
  {
   "cell_type": "code",
   "execution_count": 4,
   "id": "7a14fd0f-0bc4-41e8-b518-8a8c6dbcda4f",
   "metadata": {},
   "outputs": [],
   "source": [
    "import numpy as np\n",
    "import matplotlib.pyplot as plt\n"
   ]
  },
  {
   "cell_type": "markdown",
   "id": "c2728e6a-3ca3-4212-9750-245d70098b5b",
   "metadata": {},
   "source": [
    "Tibia length: $l_t$\n",
    "\n",
    "Femur length: $l_f$"
   ]
  },
  {
   "cell_type": "markdown",
   "id": "6d7c5c82-8df0-4bd8-a6c4-f68ab0036103",
   "metadata": {},
   "source": [
    "Definition of $\\vec{r_1}$ and $\\vec{r_2}$:"
   ]
  },
  {
   "cell_type": "code",
   "execution_count": 6,
   "id": "a8105534-3433-49e5-ad83-320269bb2fb1",
   "metadata": {},
   "outputs": [],
   "source": [
    "def r_1(l_f, theta_h):\n",
    "    x = l_f * np.cos(theta_h)\n",
    "    y = l_f * np.sin(theta_h)\n",
    "    return np.array([x, y])\n",
    "\n",
    "def r_2(r_1, l_t, theta_k, theta_h):\n",
    "    phi = np.pi - (theta_k - theta_h)\n",
    "    x = r_1[0] + l_t * np.cos(phi)\n",
    "    y = r_1[1] + l_t * np.sin(phi)\n",
    "    return np.array([x, y])"
   ]
  },
  {
   "cell_type": "code",
   "execution_count": null,
   "id": "5818cc09-d467-4de8-addb-32704a9f1060",
   "metadata": {},
   "outputs": [],
   "source": []
  }
 ],
 "metadata": {
  "kernelspec": {
   "display_name": "Python 3 (ipykernel)",
   "language": "python",
   "name": "python3"
  },
  "language_info": {
   "codemirror_mode": {
    "name": "ipython",
    "version": 3
   },
   "file_extension": ".py",
   "mimetype": "text/x-python",
   "name": "python",
   "nbconvert_exporter": "python",
   "pygments_lexer": "ipython3",
   "version": "3.11.7"
  }
 },
 "nbformat": 4,
 "nbformat_minor": 5
}
