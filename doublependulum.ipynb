{
 "cells": [
  {
   "cell_type": "markdown",
   "id": "2d5f1fcf-c4bd-41e7-9f0c-2eecac93ba45",
   "metadata": {},
   "source": [
    "This double pendular model of sprinting gait uses assumed values for torsional driving and damping constants."
   ]
  },
  {
   "cell_type": "code",
   "execution_count": null,
   "id": "d217645d-a6a5-4128-a660-d683b335c1b9",
   "metadata": {},
   "outputs": [],
   "source": [
    "%matplotlib inline"
   ]
  },
  {
   "cell_type": "code",
   "execution_count": null,
   "id": "7a14fd0f-0bc4-41e8-b518-8a8c6dbcda4f",
   "metadata": {},
   "outputs": [],
   "source": [
    "import numpy as np\n",
    "import matplotlib.pyplot as plt\n",
    "import matplotlib.animation as animation\n",
    "\n",
    "from IPython.display import HTML #for visualization using HTML video"
   ]
  },
  {
   "cell_type": "markdown",
   "id": "c2728e6a-3ca3-4212-9750-245d70098b5b",
   "metadata": {},
   "source": [
    "Tibia length: $l_t$\n",
    "\n",
    "Femur length: $l_f$"
   ]
  },
  {
   "cell_type": "markdown",
   "id": "6d7c5c82-8df0-4bd8-a6c4-f68ab0036103",
   "metadata": {},
   "source": [
    "Definition of $\\vec{r_1}$ and $\\vec{r_2}$, where $r_1$ is the position vector of the knee joint and $r_2$ is the position vector of the ankle:"
   ]
  },
  {
   "cell_type": "code",
   "execution_count": null,
   "id": "a8105534-3433-49e5-ad83-320269bb2fb1",
   "metadata": {},
   "outputs": [],
   "source": [
    "def r_1(l_f, theta_h): #calculates the position vector of knee given a theta\n",
    "    x = l_f * np.cos(theta_h)\n",
    "    y = -l_f * np.sin(theta_h) # y defined negative in order to hang leg down\n",
    "    return x, y\n",
    "\n",
    "def r_2(r_1, l_t, theta_k, theta_h): #calculates the position vector of ankle given a theta\n",
    "    phi = np.pi - (theta_k - theta_h)\n",
    "    x = r_1[0] + l_t * np.cos(phi)\n",
    "    y = -r_1[1] + l_t * np.sin(phi) # y defined negative in order to hang leg down\n",
    "    return x, y"
   ]
  },
  {
   "cell_type": "markdown",
   "id": "50b9017b-5525-49c5-be1e-854fba3536c2",
   "metadata": {},
   "source": [
    "We will look at this model through torques of the individual limbs $l_t$ and $l_f$. In order to do so, we must write down the torque equations:\n",
    "\n",
    "Again, calling $\\phi = \\pi - (\\theta_k - \\theta_h)$:\n",
    "$$\\sum{\\tau_1} = l_f m_f g cos({\\theta}_h) - T_2 cos (\\theta_k - \\pi) + k_f \\theta_f + b_f \\dot{\\theta_f} = m_f {l_f}^2 \\ddot{\\theta_h}$$\n",
    "$$\\sum{\\tau_2} = l_t m_t gcos(\\phi) + k_t{\\theta_t} + b_t{\\dot{\\theta_t}} = m_t {l_t}^2 \\ddot{\\phi}$$\n",
    "\n",
    "$\\tau_1$ is dependent on the tension exerted on the femur by the tibia, which we called $T_2$. $T_2$ is really just the centripetal force of the tibia:\n",
    "\n",
    "$$T_2 = \\frac{m_t {v_t}^2}{l_t} = \\frac{m_t ({\\dot{r_2}})^2}{l_t}$$\n",
    "\n",
    "$v_2$ is the derivative of $r_2$. Because we are only concerned with the square of velocity:\n",
    "$$|\\dot{r_2}|^2 = l_f^2 \\dot{\\theta_h}^2 - 2 l_f l_t \\dot{\\theta_h} \\dot{\\phi} cos(\\theta_k) + l_t^2 \\dot{\\phi^2}$$"
   ]
  },
  {
   "cell_type": "markdown",
   "id": "7585fb60-e55a-4242-8cc7-e4ffa00645f1",
   "metadata": {},
   "source": [
    "$$l_f m_f g cos({\\theta}_h) - T_2 cos (\\theta_k - \\pi) + k_f \\theta_f + b_f \\dot{\\theta_f} = m_f {l_f}^2 \\ddot{\\theta_h} = m_f {l_f}^2 \\dot{\\omega_h}$$\n",
    "\n",
    "$$l_t m_t gcos(\\phi) + k_t{\\theta_t} + b_t{\\dot{\\theta_t}} = m_t {l_t}^2 \\ddot{\\phi} = m_t {l_t}^2 \\dot{\\omega_{\\phi}}$$"
   ]
  },
  {
   "cell_type": "markdown",
   "id": "ef1c754f-6f5d-4914-9e2b-226e4aceef24",
   "metadata": {},
   "source": [
    "Note that our equations are defined in $\\phi$ and not $\\theta_k$, although our initial condition is still in terms of $\\theta_k$."
   ]
  },
  {
   "cell_type": "code",
   "execution_count": null,
   "id": "33d21d1e-bfc2-4ba3-b791-45774e74aac9",
   "metadata": {},
   "outputs": [],
   "source": [
    "def degrees_to_radians(degree): #convert degrees to radians\n",
    "    rad = degree * (np.pi / 180)\n",
    "    return rad\n",
    "\n",
    "def update_system_undamped(theta_h, phi, omega_h, omega_phi, m_1, m_2, l_f, l_t, g, b_1, b_2, t): #including all relevant parameters in function parameters\n",
    "    I_1 = m_1 * np.square(l_f) # moment of inertia of femur\n",
    "    I_2 = m_2 * np.square(l_t) # moment of inertia of tibia\n",
    "    T = (m_2 / l_t) * (np.square(l_f) * np.square(omega_h) + 2 * l_f * l_t * omega_h * omega_phi + np.square(l_t) * np.square(omega_phi)) # tension of the tibia swinging\n",
    "    \n",
    "    new_omega_phi = omega_phi - (b_2 / I_2 * omega_phi + (l_t * m_2 * g) / I_2 * np.cos(phi)) * t\n",
    "    new_phi = phi + new_omega_phi * t\n",
    "\n",
    "    new_omega_h = omega_h - (b_1 / I_1 * omega_h + (l_f * m_1 * g) / I_1 * np.cos(theta_h) - (l_f / I_1) * T) * t\n",
    "    new_theta_h = theta_h + new_omega_h * t\n",
    "\n",
    "    return new_omega_phi, new_phi, new_omega_h, new_theta_h\n"
   ]
  },
  {
   "cell_type": "code",
   "execution_count": null,
   "id": "f135587d-b88a-4e00-b944-395730c543d2",
   "metadata": {},
   "outputs": [],
   "source": []
  },
  {
   "cell_type": "code",
   "execution_count": null,
   "id": "30875054-0704-44e4-ba5b-60863085d223",
   "metadata": {},
   "outputs": [],
   "source": []
  }
 ],
 "metadata": {
  "kernelspec": {
   "display_name": "Python 3 (ipykernel)",
   "language": "python",
   "name": "python3"
  },
  "language_info": {
   "codemirror_mode": {
    "name": "ipython",
    "version": 3
   },
   "file_extension": ".py",
   "mimetype": "text/x-python",
   "name": "python",
   "nbconvert_exporter": "python",
   "pygments_lexer": "ipython3",
   "version": "3.11.7"
  }
 },
 "nbformat": 4,
 "nbformat_minor": 5
}
