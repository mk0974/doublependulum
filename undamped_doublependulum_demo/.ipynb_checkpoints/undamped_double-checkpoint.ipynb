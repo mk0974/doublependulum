{
 "cells": [
  {
   "cell_type": "code",
   "execution_count": 37,
   "metadata": {},
   "outputs": [],
   "source": [
    "%matplotlib inline"
   ]
  },
  {
   "cell_type": "code",
   "execution_count": 41,
   "metadata": {},
   "outputs": [
    {
     "ename": "ImportError",
     "evalue": "cannot import name 'm1' from 'sample_parameters' (c:\\Users\\xmc08\\doublependulum\\undamped_doublependulum_demo\\sample_parameters.py)",
     "output_type": "error",
     "traceback": [
      "\u001b[1;31m---------------------------------------------------------------------------\u001b[0m",
      "\u001b[1;31mImportError\u001b[0m                               Traceback (most recent call last)",
      "Cell \u001b[1;32mIn[41], line 7\u001b[0m\n\u001b[0;32m      5\u001b[0m \u001b[38;5;66;03m# files\u001b[39;00m\n\u001b[0;32m      6\u001b[0m \u001b[38;5;28;01mfrom\u001b[39;00m \u001b[38;5;21;01mdoublependulum_raw\u001b[39;00m \u001b[38;5;28;01mimport\u001b[39;00m doublependulum_raw \u001b[38;5;66;03m#contains pendulum class\u001b[39;00m\n\u001b[1;32m----> 7\u001b[0m \u001b[38;5;28;01mfrom\u001b[39;00m \u001b[38;5;21;01msample_parameters\u001b[39;00m \u001b[38;5;28;01mimport\u001b[39;00m m1, m2, l_f, l_t, theta_h, theta_k, omega_h, omega_phi \u001b[38;5;66;03m# sample paramters of pendulum\u001b[39;00m\n\u001b[0;32m      9\u001b[0m \u001b[38;5;28;01mfrom\u001b[39;00m \u001b[38;5;21;01mIPython\u001b[39;00m\u001b[38;5;21;01m.\u001b[39;00m\u001b[38;5;21;01mdisplay\u001b[39;00m \u001b[38;5;28;01mimport\u001b[39;00m HTML \u001b[38;5;66;03m#for visualization using HTML video\u001b[39;00m\n\u001b[0;32m     11\u001b[0m \u001b[38;5;28mprint\u001b[39m(m1)\n",
      "\u001b[1;31mImportError\u001b[0m: cannot import name 'm1' from 'sample_parameters' (c:\\Users\\xmc08\\doublependulum\\undamped_doublependulum_demo\\sample_parameters.py)"
     ]
    }
   ],
   "source": [
    "import numpy as np\n",
    "import matplotlib.pyplot as plt\n",
    "import matplotlib.animation as animation\n",
    "\n",
    "# files\n",
    "from doublependulum_raw import doublependulum_raw #contains pendulum class\n",
    "from sample_parameters import * # sample paramters of pendulum\n",
    "\n",
    "from IPython.display import HTML #for visualization using HTML video"
   ]
  },
  {
   "cell_type": "code",
   "execution_count": 39,
   "metadata": {},
   "outputs": [
    {
     "ename": "NameError",
     "evalue": "name 'm1' is not defined",
     "output_type": "error",
     "traceback": [
      "\u001b[1;31m---------------------------------------------------------------------------\u001b[0m",
      "\u001b[1;31mNameError\u001b[0m                                 Traceback (most recent call last)",
      "Cell \u001b[1;32mIn[39], line 1\u001b[0m\n\u001b[1;32m----> 1\u001b[0m pend \u001b[38;5;241m=\u001b[39m doublependulum_raw(\u001b[43mm1\u001b[49m, m2, l_f, l_t, theta_h, theta_k, omega_h, omega_phi)\n\u001b[0;32m      3\u001b[0m pend\u001b[38;5;241m.\u001b[39mpopulateFrames(\u001b[38;5;241m0.02\u001b[39m, \u001b[38;5;241m600\u001b[39m)\n\u001b[0;32m      5\u001b[0m fig, ax \u001b[38;5;241m=\u001b[39m plt\u001b[38;5;241m.\u001b[39msubplots()\n",
      "\u001b[1;31mNameError\u001b[0m: name 'm1' is not defined"
     ]
    }
   ],
   "source": [
    "pend = doublependulum_raw(m1, m2, l_f, l_t, theta_h, theta_k, omega_h, omega_phi)\n",
    "\n",
    "pend.populateFrames(0.02, 600)\n",
    "\n",
    "fig, ax = plt.subplots()\n",
    "femur, = ax.plot([], [], 'o-', lw=2)\n",
    "tibia, = ax.plot([], [], 'o-', lw=2)\n",
    "\n",
    "L = pend.l_f + pend.l_t\n",
    "\n",
    "def animate(i):\n",
    "    global pend, L\n",
    "\n",
    "    r_knee = [pend.get_x_knee(i), pend.get_y_knee(i)]\n",
    "    r_ankle = [pend.get_x_ankle(i), pend.get_y_ankle(i)]\n",
    "\n",
    "    femur.set_data([0,0] , r_knee)\n",
    "    tibia.set_data(r_knee, r_ankle)\n",
    "    ax.set_xlim(-3*L, 3*L)\n",
    "    ax.set_ylim(-3*L, 3*L)\n",
    "    ax.set_xlabel('X')\n",
    "    ax.set_ylabel('Y')\n",
    "    ax.set_title('Undamped Double Pendulum')\n",
    "    return (femur, tibia)\n",
    "\n",
    "plt.close()\n",
    "anim = animation.FuncAnimation(fig, animate, frames=600, interval=20, blit=True)\n",
    "HTML(anim.to_html5_video())\n",
    "    "
   ]
  }
 ],
 "metadata": {
  "kernelspec": {
   "display_name": "Python 3",
   "language": "python",
   "name": "python3"
  },
  "language_info": {
   "codemirror_mode": {
    "name": "ipython",
    "version": 3
   },
   "file_extension": ".py",
   "mimetype": "text/x-python",
   "name": "python",
   "nbconvert_exporter": "python",
   "pygments_lexer": "ipython3",
   "version": "3.12.1"
  }
 },
 "nbformat": 4,
 "nbformat_minor": 2
}
